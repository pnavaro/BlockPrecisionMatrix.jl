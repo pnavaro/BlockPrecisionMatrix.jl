{
 "cells": [
  {
   "cell_type": "markdown",
   "metadata": {},
   "source": [
    "# Algorithm\n",
    "\n",
    "$$\n",
    "\\mathbf{x}^{(0)} = (x_1^0,...,x_n^0)\n",
    "$$\n",
    "\n",
    "$$\n",
    "\\mathbf{x}_i^{(k+1)} = argmin_{\\omega} f(x_1^{(k+1)}, ..., x_{i-1}^{(k+1)}, \\omega, x_{i+1}^{(k)}, ..., x_n^{(k)})\n",
    "$$\n",
    "\n",
    "$$\n",
    "x_i : = x_i - \\alpha \\frac{\\partial f}{\\partial x_i}(\\mathbf{x})\n",
    "$$\n",
    "\n",
    "$$\n",
    "\\rho_j = \\sum_{i=1}^m x_j^{(i)}  (y^{(i)}  - \\sum_{k \\neq j}^n \\theta_k x_k^{(i)} ) = \\sum_{i=1}^m x_j^{(i)}  (y^{(i)}  - \\hat y^{(i)}_{pred} + \\theta_j x_j^{(i)} )\n",
    "$$"
   ]
  },
  {
   "cell_type": "code",
   "execution_count": null,
   "metadata": {},
   "outputs": [],
   "source": [
    "#Load the diabetes dataset\n",
    "\n",
    "using ScikitLearn\n",
    "@sk_import datasets: load_diabetes\n",
    "\n",
    "diabetes = load_diabetes()\n",
    "\n",
    "X = diabetes[\"data\"]\n",
    "y = diabetes[\"target\"]\n",
    "diabetes"
   ]
  },
  {
   "cell_type": "code",
   "execution_count": null,
   "metadata": {},
   "outputs": [],
   "source": [
    "using Statistics\n",
    "\n",
    "\n",
    "\"\"\"\n",
    "Soft threshold function used for normalized \n",
    "data and lasso regression\n",
    "\"\"\"\n",
    "function soft_threshold(ρ :: Float64, λ :: Float64)\n",
    "    if ρ + λ <  0\n",
    "        return (ρ + λ)\n",
    "    elseif ρ - λ > 0\n",
    "        return (ρ - λ)\n",
    "    else\n",
    "        return 0\n",
    "    end\n",
    "end"
   ]
  },
  {
   "cell_type": "code",
   "execution_count": null,
   "metadata": {},
   "outputs": [],
   "source": [
    "\"\"\"\n",
    "Coordinate gradient descent for lasso regression \n",
    "for normalized data. \n",
    "\n",
    "The intercept parameter allows to specify whether \n",
    "or not we regularize ``\\\\theta_0``\n",
    "\"\"\"    \n",
    "function coordinate_descent_lasso(theta, X, y; lamda = .01, \n",
    "        num_iters=100, intercept = false)\n",
    "    \n",
    "    #Initialisation of useful values \n",
    "    m, n = size(X)\n",
    "    X .= X ./ sqrt.(sum(X.^2, dims=1)) #normalizing X in case it was not done before\n",
    "    y_pred = similar(y)\n",
    "    #Looping until max number of iterations\n",
    "    for i in 1:num_iters\n",
    "        \n",
    "        #Looping through each coordinate\n",
    "        for j in 1:n\n",
    "            \n",
    "            #Vectorized implementation\n",
    "            X_j = view(X,:,j)\n",
    "            y_pred .= X * theta\n",
    "            rho = X_j' * (y .- y_pred  .+ theta[j] .* X_j)\n",
    "        \n",
    "            #Checking intercept parameter\n",
    "            if intercept  \n",
    "                if j == 0\n",
    "                    theta[j] =  first(rho) \n",
    "                else\n",
    "                    theta[j] =  soft_threshold(rho..., lamda)\n",
    "                end\n",
    "            end\n",
    "\n",
    "            if !intercept\n",
    "                theta[j] =  soft_threshold(rho..., lamda)\n",
    "            end\n",
    "        end\n",
    "    end\n",
    "            \n",
    "    return vec(theta)\n",
    "end"
   ]
  },
  {
   "cell_type": "code",
   "execution_count": null,
   "metadata": {},
   "outputs": [],
   "source": [
    "function lasso(X, y)\n",
    "    # Initialize variables\n",
    "    m,n = size(X)\n",
    "    initial_theta = ones(Float64,n)\n",
    "    theta_lasso = Vector{Float64}[]\n",
    "    lamda = exp10.(range(0, stop=4, length=300)) ./10 #Range of lambda values\n",
    "    \n",
    "    #Run lasso regression for each lambda\n",
    "    for l in lamda\n",
    "        theta = coordinate_descent_lasso(initial_theta, X, y, lamda = l, num_iters=100)\n",
    "        push!(theta_lasso, copy(theta))\n",
    "    end\n",
    "    return vcat(theta_lasso'...)\n",
    "end"
   ]
  },
  {
   "cell_type": "code",
   "execution_count": null,
   "metadata": {},
   "outputs": [],
   "source": [
    "using BenchmarkTools\n",
    "@btime theta_lasso = lasso( X, y)"
   ]
  },
  {
   "cell_type": "code",
   "execution_count": null,
   "metadata": {},
   "outputs": [],
   "source": [
    "#Plot results\n",
    "using Plots\n",
    "n = length(theta_lasso)\n",
    "p = plot(figsize = (12,8))\n",
    "for (i,label) in enumerate(diabetes[\"feature_names\"])\n",
    "    plot!(p, theta_lasso[:,i], label = label)\n",
    "end\n",
    "display(p)"
   ]
  },
  {
   "cell_type": "code",
   "execution_count": null,
   "metadata": {
    "lines_to_next_cell": 2
   },
   "outputs": [],
   "source": []
  }
 ],
 "metadata": {
  "jupytext": {
   "encoding": "# -*- coding: utf-8 -*-",
   "formats": "ipynb,jl:light",
   "text_representation": {
    "extension": ".jl",
    "format_name": "light",
    "format_version": "1.4",
    "jupytext_version": "1.2.4"
   }
  },
  "kernelspec": {
   "display_name": "Julia 1.2.0",
   "language": "julia",
   "name": "julia-1.2"
  },
  "language_info": {
   "file_extension": ".jl",
   "mimetype": "application/julia",
   "name": "julia",
   "version": "1.2.0"
  }
 },
 "nbformat": 4,
 "nbformat_minor": 2
}
